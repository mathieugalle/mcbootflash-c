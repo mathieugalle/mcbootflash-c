{
 "cells": [
  {
   "cell_type": "code",
   "execution_count": 128,
   "metadata": {},
   "outputs": [],
   "source": [
    "# bf.get_boot_attrs(connection)\n",
    "\n",
    "def bytes_to_hex_string(byte_data, addSpaces = True):\n",
    "    hex_bytes = [f\"{byte:02x}\" for byte in bytes(byte_data)]\n",
    "    if addSpaces:\n",
    "        return ' '.join(hex_bytes, )\n",
    "    else:\n",
    "        return ''.join(hex_bytes, )\n",
    "\n"
   ]
  },
  {
   "cell_type": "code",
   "execution_count": 66,
   "metadata": {},
   "outputs": [
    {
     "data": {
      "text/plain": [
       "'01 00 00 00 00 00 00 00 00 00 00 2a 00 2b 00 00 00 2d 00 00 00 30 00 22 00 00 00 00 00 00 00 00 00 00 00 00 00'"
      ]
     },
     "execution_count": 66,
     "metadata": {},
     "output_type": "execute_result"
    }
   ],
   "source": [
    "from _types import *\n",
    "\n",
    "# la première commande est : # bf.get_boot_attrs(connection)\n",
    "# qui fait : \n",
    "    # mem_range_response = _send_and_receive(\n",
    "    #     connection,\n",
    "    #     Command(CommandCode.GET_MEMORY_ADDRESS_RANGE),\n",
    "    # )\n",
    "\n",
    "# Checksum(42).__bytes__()\n",
    "\n",
    "# len(bytes(Command(CommandCode.GET_MEMORY_ADDRESS_RANGE)))\n",
    "\n",
    "# # ok, la commande pour demander fait 11 octets, et commence juste par \"0b\"\n",
    "# # ensuite, déparser la réponse\n",
    "v = Version(ResponseCode.SUCCESS)\n",
    "v.version = 42\n",
    "v.max_packet_length = 43\n",
    "v.device_id = 45\n",
    "v.erase_size = 48\n",
    "v.write_size = 34\n",
    "\n",
    "bytes_to_hex_string(v.__bytes__())\n"
   ]
  },
  {
   "cell_type": "code",
   "execution_count": 113,
   "metadata": {},
   "outputs": [
    {
     "name": "stdout",
     "output_type": "stream",
     "text": [
      "number of segments 2\n",
      "first segment  Segment(address=0, data=bytearray(b'\\xe0\\x1a\\x04\\x00\\x00\\x00\\x00\\x00\\x04\\x1a\\x00\\x00\\x08\\x1a\\x00\\x00\\x0c\\x1a\\x00\\x00\\x10\\x1a\\x00\\x00\\x14\\x1a\\x00\\x00\\x18\\x1a\\x00\\x00\\x1c\\x1a\\x00\\x00\\x00\\x1a\\x00\\x00 \\x1a\\x00\\x00$\\x1a\\x00\\x00(\\x1a\\x00\\x00,\\x1a\\x00\\x000\\x1a\\x00\\x004\\x1a\\x00\\x008\\x1a\\x00\\x00<\\x1a\\x00\\x00@\\x1a\\x00\\x00D\\x1a\\x00\\x00H\\x1a\\x00\\x00L\\x1a\\x00\\x00P\\x1a\\x00\\x00T\\x1a\\x00\\x00X\\x1a\\x00\\x00\\x00\\x1a\\x00\\x00\\\\\\x1a\\x00\\x00`\\x1a\\x00\\x00d\\x1a\\x00\\x00h\\x1a\\x00\\x00l\\x1a\\x00\\x00\\x00\\x1a\\x00\\x00\\x00\\x1a\\x00\\x00\\x00\\x1a\\x00\\x00p\\x1a\\x00\\x00t\\x1a\\x00\\x00x\\x1a\\x00\\x00|\\x1a\\x00\\x00\\x80\\x1a\\x00\\x00\\x84\\x1a\\x00\\x00\\x88\\x1a\\x00\\x00\\x8c\\x1a\\x00\\x00\\x90\\x1a\\x00\\x00\\x94\\x1a\\x00\\x00\\x00\\x1a\\x00\\x00\\x00\\x1a\\x00\\x00\\x98\\x1a\\x00\\x00\\x9c\\x1a\\x00\\x00\\xa0\\x1a\\x00\\x00\\x00\\x1a\\x00\\x00\\x00\\x1a\\x00\\x00\\x00\\x1a\\x00\\x00\\x00\\x1a\\x00\\x00\\x00\\x1a\\x00\\x00\\x00\\x1a\\x00\\x00\\x00\\x1a\\x00\\x00\\x00\\x1a\\x00\\x00\\x00\\x1a\\x00\\x00\\x00\\x1a\\x00\\x00\\xa4\\x1a\\x00\\x00\\xa8\\x1a\\x00\\x00\\x00\\x1a\\x00\\x00\\x00\\x1a\\x00\\x00\\x00\\x1a\\x00\\x00\\x00\\x1a\\x00\\x00\\x00\\x1a\\x00\\x00\\x00\\x1a\\x00\\x00\\x00\\x1a\\x00\\x00\\xac\\x1a\\x00\\x00\\x00\\x1a\\x00\\x00\\x00\\x1a\\x00\\x00\\x00\\x1a\\x00\\x00\\x00\\x1a\\x00\\x00\\x00\\x1a\\x00\\x00\\x00\\x1a\\x00\\x00\\xb0\\x1a\\x00\\x00\\xb4\\x1a\\x00\\x00\\xb8\\x1a\\x00\\x00\\x00\\x1a\\x00\\x00\\x00\\x1a\\x00\\x00\\x00\\x1a\\x00\\x00\\x00\\x1a\\x00\\x00\\x00\\x1a\\x00\\x00\\x00\\x1a\\x00\\x00\\x00\\x1a\\x00\\x00\\x00\\x1a\\x00\\x00\\x00\\x1a\\x00\\x00\\xbc\\x1a\\x00\\x00\\x00\\x1a\\x00\\x00\\x00\\x1a\\x00\\x00\\x00\\x1a\\x00\\x00\\x00\\x1a\\x00\\x00\\x00\\x1a\\x00\\x00\\x00\\x1a\\x00\\x00\\x00\\x1a\\x00\\x00\\x00\\x1a\\x00\\x00\\x00\\x1a\\x00\\x00\\x00\\x1a\\x00\\x00\\x00\\x1a\\x00\\x00\\x00\\x1a\\x00\\x00\\x00\\x1a\\x00\\x00\\x00\\x1a\\x00\\x00\\x00\\x1a\\x00\\x00\\x00\\x1a\\x00\\x00\\x00\\x1a\\x00\\x00\\x00\\x1a\\x00\\x00\\x00\\x1a\\x00\\x00\\x00\\x1a\\x00\\x00\\x00\\x1a\\x00\\x00\\x00\\x1a\\x00\\x00\\x00\\x1a\\x00\\x00\\x00\\x1a\\x00\\x00\\x00\\x1a\\x00\\x00\\x00\\x1a\\x00\\x00\\x00\\x1a\\x00\\x00\\x00\\x1a\\x00\\x00\\x00\\x1a\\x00\\x00\\x00\\x1a\\x00\\x00\\x00\\x1a\\x00\\x00\\x00\\x1a\\x00\\x00\\x00\\x1a\\x00\\x00\\x00\\x1a\\x00\\x00\\x00\\x1a\\x00\\x00\\x00\\x1a\\x00\\x00\\x00\\x1a\\x00\\x00\\x00\\x1a\\x00\\x00\\x00\\x1a\\x00\\x00\\x00\\x1a\\x00\\x00\\x00\\x1a\\x00\\x00\\x00\\x1a\\x00\\x00\\x00\\x1a\\x00\\x00\\x00\\x1a\\x00\\x00\\x00\\x1a\\x00\\x00\\x00\\x1a\\x00\\x00\\x00\\x1a\\x00\\x00\\x00\\x1a\\x00\\x00\\x00\\x1a\\x00\\x00\\x00\\x1a\\x00\\x00\\x00\\x1a\\x00\\x00\\x00\\x1a\\x00\\x00\\x00\\x1a\\x00\\x00\\x00\\x1a\\x00\\x00\\x00\\x1a\\x00\\x00\\x00\\x1a\\x00\\x00\\x00\\x1a\\x00\\x00\\x00\\x1a\\x00\\x00\\x00\\x1a\\x00\\x00\\x00\\x1a\\x00\\x00\\x00\\x1a\\x00\\x00\\x00\\x1a\\x00\\x00\\x00\\x1a\\x00\\x00\\x00\\x1a\\x00\\x00\\xc0\\x1a\\x00\\x00\\xc4\\x1a\\x00\\x00\\x00\\x1a\\x00\\x00\\xc8\\x1a\\x00\\x00\\xcc\\x1a\\x00\\x00\\xd0\\x1a\\x00\\x00\\xd4\\x1a\\x00\\x00\\xd8\\x1a\\x00\\x00\\xdc\\x1a\\x00\\x00\\x00\\x1a\\x00\\x00\\x00\\x1a\\x00\\x00\\x00\\x1a\\x00\\x00\\x00\\x1a\\x00\\x00\\x00\\x1a\\x00\\x00\\x00\\x1a\\x00\\x00\\x00\\x1a\\x00\\x00\\x00\\x1a\\x00\\x00\\x00\\x1a\\x00\\x00\\x00\\x1a\\x00\\x00\\x00\\x1a\\x00\\x00\\x00\\x1a\\x00\\x00\\x00\\x1a\\x00\\x00\\x00\\x1a\\x00\\x00\\x00\\x1a\\x00\\x00\\x00\\x1a\\x00\\x00\\x00\\x1a\\x00\\x00\\x00\\x1a\\x00\\x00\\x00\\x1a\\x00\\x00\\x00\\x1a\\x00\\x00\\x00\\x1a\\x00\\x00\\x00\\x1a\\x00\\x00\\x00\\x1a\\x00\\x00\\x00\\x1a\\x00\\x00\\x00\\x1a\\x00\\x00\\x00\\x1a\\x00\\x00\\x00\\x1a\\x00\\x00\\x00\\x1a\\x00\\x00\\x00\\x1a\\x00\\x00\\x00\\x1a\\x00\\x00\\x00\\x1a\\x00\\x00\\x00\\x1a\\x00\\x00\\x00\\x1a\\x00\\x00\\x00\\x1a\\x00\\x00\\x00\\x1a\\x00\\x00\\x00\\x1a\\x00\\x00\\x00\\x1a\\x00\\x00\\x00\\x1a\\x00\\x00\\x00\\x1a\\x00\\x00\\x00\\x1a\\x00\\x00\\x00\\x1a\\x00\\x00\\x00\\x1a\\x00\\x00\\x00\\x1a\\x00\\x00\\x00\\x1a\\x00\\x00\\x00\\x1a\\x00\\x00\\x00\\x1a\\x00\\x00\\x00\\x1a\\x00\\x00\\x00\\x1a\\x00\\x00\\x00\\x1a\\x00\\x00\\x00\\x1a\\x00\\x00\\x00\\x1a\\x00\\x00\\x00\\x1a\\x00\\x00\\x00\\x1a\\x00\\x00\\x00\\x1a\\x00\\x00\\x00\\x1a\\x00\\x00\\x00\\x1a\\x00\\x00\\x00\\x1a\\x00\\x00\\x00\\x1a\\x00\\x00\\x00\\x1a\\x00\\x00\\x00\\x1a\\x00\\x00\\x00\\x1a\\x00\\x00\\x00\\x1a\\x00\\x00\\x00\\x1a\\x00\\x00\\x00\\x1a\\x00\\x00\\x00\\x1a\\x00\\x00\\x00\\x1a\\x00\\x00\\x00\\x1a\\x00\\x00\\x00\\x1a\\x00\\x00\\x00\\x1a\\x00\\x00\\x00\\x1a\\x00\\x00\\x00\\x1a\\x00\\x00\\x00\\x1a\\x00\\x00\\x00\\x1a\\x00\\x00\\x00\\x1a\\x00\\x00\\x00\\x1a\\x00\\x00\\x00\\x1a\\x00\\x00\\x00\\x1a\\x00\\x00\\x00\\x1a\\x00\\x00\\x00\\x1a\\x00\\x00\\x00\\x1a\\x00\\x00\\x00\\x1a\\x00\\x00\\x00\\x1a\\x00\\x00\\x00\\x1a\\x00\\x00\\x00\\x1a\\x00\\x00\\x00\\x1a\\x00\\x00\\x00\\x1a\\x00\\x00\\x00\\x1a\\x00\\x00\\x00\\x1a\\x00\\x00\\x00\\x1a\\x00\\x00\\x00\\x1a\\x00\\x00\\x00\\x1a\\x00\\x00\\x00\\x1a\\x00\\x00\\x00\\x1a\\x00\\x00\\x00\\x1a\\x00\\x00\\x00\\x1a\\x00\\x00'))\n",
      "second segment  Segment(address=6144, data=bytearray(b'\\xe0\\x1a\\x04\\x00\\x00\\x00\\x00\\x00\\x02\\x00\\xfa\\x00\\x00\\x0fx\\x00\\x1e\\x00x\\x00\\x00@x\\x00g@`\\x00\\x00\\x80\\xfb\\x00g\\x00`\\x00J\\x00\\xdd\\x00\\x02\\n\\x80\\x00\\xf1?.\\x00\\x81\\x00a\\x00\\x01\\x00p\\x00\\x00\\n\\x88\\x00\\x00\\x80\\xfa\\x00\\x00\\x00\\x06\\x00\\x02\\x00\\xfa\\x00\\x00\\x0fx\\x00\\x1e\\x00x\\x00\\x00@x\\x00g@`\\x00\\x00\\x80\\xfb\\x00g\\x00`\\x00\\x02\\n\\x80\\x00\\x81\\xff/\\x00\\x81\\x00a\\x00\\x01\\x00p\\x00\\x00\\n\\x88\\x00\\x00\\x80\\xfa\\x00\\x00\\x00\\x06\\x00\\x00\\x00\\xfa\\x00C\\x01\\xa8\\x00\\x00\\x80\\xfa\\x00\\x00\\x00\\x06\\x00\\x00\\x00\\xfa\\x00\\x00(\\xa9\\x00\\x00\\x80\\xfa\\x00\\x00\\x00\\x06\\x00\\x02\\x00\\xfa\\x00\\x00\\x0fx\\x00\\x1e\\x00x\\x00\\x00@x\\x00g@`\\x00\\x00\\x80\\xfb\\x00g\\x00`\\x00J\\x00\\xdd\\x00B\\n\\x80\\x00\\xf1?.\\x00\\x81\\x00a\\x00\\x01\\x00p\\x00@\\n\\x88\\x00\\x00\\x80\\xfa\\x00\\x00\\x00\\x06\\x00\\x02\\x00\\xfa\\x00\\x00\\x0fx\\x00\\x1e\\x00x\\x00\\x00@x\\x00g@`\\x00\\x00\\x80\\xfb\\x00g\\x00`\\x00B\\n\\x80\\x00\\x81\\xff/\\x00\\x81\\x00a\\x00\\x01\\x00p\\x00@\\n\\x88\\x00\\x00\\x80\\xfa\\x00\\x00\\x00\\x06\\x00\\x00\\x00\\xfa\\x00K\\x01\\xa8\\x00\\x00\\x80\\xfa\\x00\\x00\\x00\\x06\\x00\\x02\\x00\\xfa\\x00\\x00\\x0fx\\x00\\x1e\\x00x\\x00\\x00@x\\x00g@`\\x00\\x00\\x80\\xfb\\x00g\\x00`\\x00J\\x00\\xdd\\x00\\x82\\n\\x80\\x00\\xf1?.\\x00\\x81\\x00a\\x00\\x01\\x00p\\x00\\x80\\n\\x88\\x00\\x00\\x80\\xfa\\x00\\x00\\x00\\x06\\x00\\x02\\x00\\xfa\\x00\\x00\\x0fx\\x00\\x1e\\x00x\\x00\\x00@x\\x00g@`\\x00\\x00\\x80\\xfb\\x00g\\x00`\\x00\\x82\\n\\x80\\x00\\x81\\xff/\\x00\\x81\\x00a\\x00\\x01\\x00p\\x00\\x80\\n\\x88\\x00\\x00\\x80\\xfa\\x00\\x00\\x00\\x06\\x00\\x00\\x00\\xfa\\x00S\\x01\\xa8\\x00\\x00\\x80\\xfa\\x00\\x00\\x00\\x06\\x00\\x00\\x00\\xfa\\x00\\x04\\xa8\\xa9\\x00\\x00\\x80\\xfa\\x00\\x00\\x00\\x06\\x00\\x02\\x00\\xfa\\x00\\x00\\x0fx\\x00\\x1e\\x00x\\x00\\x00@x\\x00g@`\\x00\\x00\\x80\\xfb\\x00g\\x00`\\x00J\\x00\\xdd\\x00\\xc2\\n\\x80\\x00\\xf1?.\\x00\\x81\\x00a\\x00\\x01\\x00p\\x00\\xc0\\n\\x88\\x00\\x00\\x80\\xfa\\x00\\x00\\x00\\x06\\x00\\x02\\x00\\xfa\\x00\\x00\\x0fx\\x00\\x1e\\x00x\\x00\\x00@x\\x00g@`\\x00\\x00\\x80\\xfb\\x00g\\x00`\\x00\\xc2\\n\\x80\\x00\\x81\\xff/\\x00\\x81\\x00a\\x00\\x01\\x00p\\x00\\xc0\\n\\x88\\x00\\x00\\x80\\xfa\\x00\\x00\\x00\\x06\\x00\\x00\\x00\\xfa\\x00[\\x01\\xa8\\x00\\x00\\x80\\xfa\\x00\\x00\\x00\\x06\\x00\\x06\\x00\\xfa\\x00\\x00Ox\\x00\\x11G\\x98\\x00\\x12\\x07\\x98\\x00#\\x07\\x98\\x00\\x1e\\x80\\xfb\\x00\\xa1\\xb9&\\x00\\x00\\x80@\\x00\\x10@x\\x00\\x00t\\xa1\\x00\\x80\\x80\\xfb\\x00\\xf0\\x07 \\x00\\x00\\x80`\\x00r5\\x80\\x00\\x01\\xf8/\\x00\\x81\\x00a\\x00\\x01\\x00p\\x00p5\\x88\\x00\\x1e@\\x90\\x00\\x00\\x80\\xfb\\x00\\xa1\\xb9&\\x00\\x00\\x80@\\x00\\x10@x\\x00\\x00t\\xa1\\x00\\x80\\x80\\xfb\\x00\\xf0\\x07 \\x00\\x00\\x80`\\x00\\x825\\x80\\x00\\x01\\xf8/\\x00\\x81\\x00a\\x00\\x01\\x00p\\x00\\x805\\x88\\x000H\\x07\\x00\\x93H\\x07\\x00\\xf6H\\x07\\x00`G\\x07\\x00p\\x00 \\x00N\\xff\\x07\\x00p\\x00 \\x00q\\xff\\x07\\x00p\\x00 \\x00\\x90\\xff\\x07\\x00p\\x00 \\x00\\xb3\\xff\\x07\\x00d\\xff\\x07\\x00\\x88\\xff\\x07\\x00\\xa8\\xff\\x07\\x00\\xcc\\xff\\x07\\x00d\\xff\\x07\\x00\\xa9\\xff\\x07\\x00\\x1e\\x00\\x90\\x00O\\xff\\x07\\x00\\x1e\\x00\\x90\\x00r\\xff\\x07\\x00.\\x00\\x90\\x00\\x91\\xff\\x07\\x00.\\x00\\x90\\x00\\xb4\\xff\\x07\\x00PH\\x07\\x00\\xb3H\\x07\\x00\\x16I\\x07\\x00\\x80G\\x07\\x00\\x00\\x80\\xfa\\x00\\x00\\x00\\x06\\x00\\x02\\x00\\xfa\\x00\\xfbB\\x07\\x00\\x00Ox\\x00\\x05M\\x07\\x00\\x10!\\xa8\\x00\\x1e@x\\x00\\xe4OP\\x00\\x02\\x00:\\x00\\xb2K\\x07\\x00\\x16A\\x07\\x00\\x1e\\x80\\xfb\\x00\\xa1\\xb9&\\x00\\x00\\x80@\\x00\\x10@x\\x00\\x00t\\xa1\\x00\\x80\\x80\\xfb\\x00\\xf0\\x07 \\x00\\x00\\x80`\\x0025\\x80\\x00\\x01\\xf8/\\x00\\x81\\x00a\\x00\\x01\\x00p\\x0005\\x88\\x00\\x0bM\\x07\\x00\\x10\\xc0\\xb3\\x00\\x00\\x80\\xfa\\x00\\x00\\x00\\x06\\x00\\x00\\x00\\xfa\\x00\\x02M\\x07\\x00\\x06C\\x07\\x00\\x10\\xc0\\xb3\\x00\\x00\\x80\\xfa\\x00\\x00\\x00\\x06\\x00\\xf0?\\xb1\\x00\\x01\\x80\\xb1\\x00\\x06\\x005\\x00\\xee\\x03\\t\\x00\\x00\\x00\\x00\\x00@?\\xb1\\x00\\x01\\x80\\xb1\\x00\\xfb\\xff=\\x00\\x10\\x00\\xb0\\x00 ?\\xb0\\x00\\x02\\x005\\x00\\x00\\x80\\t\\x00\\x00\\x00\\x00\\x00\\x00\\x00\\x06\\x00\\xff\\xff7\\x00'))\n"
     ]
    }
   ],
   "source": [
    "import importlib\n",
    "import _util\n",
    "importlib.reload(_util)\n",
    "\n",
    "bootattrs = BootAttrs(\n",
    "        version=258,\n",
    "        max_packet_length=256,\n",
    "        device_id=13398,\n",
    "        erase_size=2048,\n",
    "        write_size=8,\n",
    "        memory_range=(6144, 174080),\n",
    "        has_checksum=True,\n",
    "    )\n",
    "total_bytes, chunks = _util.chunked(\"../mcbootflash/tests/testcases/flash/test.hex\", bootattrs)\n",
    "\n",
    "# chunks_array = []\n",
    "# for chunk in chunks:\n",
    "#     print(\"CHUNK : \")\n",
    "#     print(chunk.address)\n",
    "#     print(bytes_to_hex_string(chunk.data))\n",
    "#     print(\"        \")\n",
    "\n"
   ]
  },
  {
   "cell_type": "code",
   "execution_count": 143,
   "metadata": {},
   "outputs": [
    {
     "name": "stdout",
     "output_type": "stream",
     "text": [
      "sum of crc :  334\n",
      "after &= :  78\n",
      "final crc :  178\n",
      "crcBytes\n",
      "10000000E01A040000000000041A0000081A0000\n",
      "expected_crc  178\n",
      "type_ 0\n",
      "address 0\n",
      "size 16\n",
      "data e0 1a 04 00 00 00 00 00 04 1a 00 00 08 1a 00 00\n"
     ]
    }
   ],
   "source": [
    "# unpack_ihex test\n",
    "def crc_ihex(hexstr):\n",
    "    \"\"\"Calculate the CRC for given Intel HEX hexstring.\n",
    "\n",
    "    \"\"\"\n",
    "\n",
    "    crc = sum(binascii.unhexlify(hexstr))\n",
    "\n",
    "    print(\"sum of crc : \", crc)\n",
    "    crc &= 0xff\n",
    "    print(\"after &= : \", crc)\n",
    "    crc = ((~crc + 1) & 0xff)\n",
    "    print(\"final crc : \", crc)\n",
    "\n",
    "    return crc\n",
    "\n",
    "def unpack_ihex(record):\n",
    "    \"\"\"Unpack given Intel HEX record into variables.\n",
    "\n",
    "    \"\"\"\n",
    "\n",
    "    # Minimum :SSAAAATTCC, where SS is size, AAAA is address, TT is\n",
    "    # type and CC is crc.\n",
    "    if len(record) < 11:\n",
    "        raise Error(f\"record '{record}' too short\")\n",
    "\n",
    "    if record[0] != ':':\n",
    "        raise Error(f\"record '{record}' not starting with a ':'\")\n",
    "\n",
    "    value = bytearray.fromhex(record[1:])\n",
    "    size = value[0]\n",
    "\n",
    "    if size != len(value) - 5:\n",
    "        raise Error(f\"record '{record}' has wrong size\")\n",
    "\n",
    "    address = int.from_bytes(value[1:3], byteorder='big')\n",
    "    type_ = value[3]\n",
    "    data = value[4:-1]\n",
    "    actual_crc = value[-1]\n",
    "\n",
    "    crcBytes = record[1:-2]\n",
    "    expected_crc = crc_ihex(crcBytes)\n",
    "    print(\"crcBytes\")\n",
    "    print(crcBytes)\n",
    "\n",
    "    print(\"expected_crc \", expected_crc)\n",
    "\n",
    "    if actual_crc != expected_crc:\n",
    "        raise Error(\n",
    "            f\"expected crc '{expected_crc:02X}' in record {record}, but got \"\n",
    "            f\"'{actual_crc:02X}'\")\n",
    "\n",
    "    return (type_, address, size, data)\n",
    "\n",
    "\n",
    "(type_, address, size, data) = unpack_ihex(\":10000000E01A040000000000041A0000081A0000B2\")\n",
    "print(\"type_\", type_)\n",
    "print(\"address\", address)\n",
    "print(\"size\", size)\n",
    "print(\"data\", bytes_to_hex_string(data))\n",
    "\n",
    "# 10000000e01a040000000000041a0000081a0000\n",
    "\n",
    "# from C++ : \n",
    "\n",
    "# 10000000e01a040000000000041a0000081a0000"
   ]
  },
  {
   "cell_type": "code",
   "execution_count": 150,
   "metadata": {},
   "outputs": [
    {
     "name": "stdout",
     "output_type": "stream",
     "text": [
      "sum of crc :  257\n",
      "after &= :  1\n",
      "final crc :  255\n"
     ]
    },
    {
     "data": {
      "text/plain": [
       "255"
      ]
     },
     "execution_count": 150,
     "metadata": {},
     "output_type": "execute_result"
    }
   ],
   "source": [
    "expected_crc = crc_ihex(\"4338592D\")\n",
    "expected_crc"
   ]
  },
  {
   "cell_type": "code",
   "execution_count": null,
   "metadata": {},
   "outputs": [],
   "source": [
    "# Connect to a device in bootloader mode.\n",
    "connection = serial.Serial(port=<PORT>, baudrate=<BAUDRATE>, timeout=<TIMEOUT>)\n",
    "# Query its attributes.\n",
    "bootattrs = bf.get_boot_attrs(connection)\n",
    "# Load the firmware image and split it into chunks.\n",
    "total_bytes, chunks = bf.chunked(hexfile=<HEXFILE_PATH_STRING>, bootattrs)\n",
    "# Erase the device's program memory area.\n",
    "bf.erase_flash(connection, bootattrs.memory_range, bootattrs.erase_size)\n",
    "\n",
    "# Write the firmware chunks to the bootloader in a loop.\n",
    "for chunk in chunks:\n",
    "    bf.write_flash(connection, chunk)\n",
    "\n",
    "    # Optionally, check that the write is OK by checksumming.\n",
    "    if bootattrs.has_checksum:\n",
    "        bf.checksum(connection, chunk)\n",
    "\n",
    "    # At this point, you may want to give an indication of the flashing progress,\n",
    "    # like updating a progress bar.\n",
    "\n",
    "# Verify that the new application is detected.\n",
    "bf.self_verify(connection)\n"
   ]
  },
  {
   "cell_type": "code",
   "execution_count": 98,
   "metadata": {},
   "outputs": [
    {
     "name": "stdout",
     "output_type": "stream",
     "text": [
      "True\n"
     ]
    },
    {
     "data": {
      "text/plain": [
       "True"
      ]
     },
     "execution_count": 98,
     "metadata": {},
     "output_type": "execute_result"
    }
   ],
   "source": [
    "# test du crc ! \n",
    "import binascii\n",
    "def crc_srec(hexstr):\n",
    "    \"\"\"Calculate the CRC for given Motorola S-Record hexstring.\n",
    "\n",
    "    \"\"\"\n",
    "\n",
    "    crc = sum(binascii.unhexlify(hexstr))\n",
    "    crc &= 0xff\n",
    "    crc ^= 0xff\n",
    "\n",
    "    return crc\n",
    "\n",
    "#    std::vector<uint8_t> bytes{67, 56, 89, 45};\n",
    "print(crc_srec(\"4338592d\") == 254)\n",
    "\n",
    "\n",
    "crc_srec(\"588405bc7be1f154bbab51427e254050425dcf55\") == 210"
   ]
  },
  {
   "cell_type": "code",
   "execution_count": null,
   "metadata": {},
   "outputs": [],
   "source": []
  },
  {
   "cell_type": "markdown",
   "metadata": {},
   "source": [
    "les étapes du code : \n",
    "\n",
    "get_boot_attrs : \n",
    "\n",
    "# demander VERSION\n",
    "    read_version_response = _send_and_receive(\n",
    "        connection,\n",
    "        Command(CommandCode.READ_VERSION),\n",
    "    )\n",
    "\n",
    "# demander MEMORY_RANGE\n",
    "    mem_range_response = _send_and_receive(\n",
    "        connection,\n",
    "        Command(CommandCode.GET_MEMORY_ADDRESS_RANGE),\n",
    "    )\n",
    "\n",
    "    assert isinstance(mem_range_response, MemoryRange)\n",
    "\n",
    "    # program_end + 2 explanation:\n",
    "    # +1 because the upper bound reported by the bootloader is inclusive, but we\n",
    "    # want to use it as a Python range, which is half-open.\n",
    "    # +1 because the final byte of the final 24-bit instruction is not included in\n",
    "    # the range reported by the bootloader, but it is still writable.\n",
    "    return mem_range_response.program_start, mem_range_response.program_end + 2\n",
    "\n",
    "\n",
    "# demander CHECKSUM (peut planter)\n",
    "    try:\n",
    "        _get_remote_checksum(connection, memory_range[0], write_size)\n",
    "        has_checksum = True\n",
    "    except UnsupportedCommand:\n",
    "        _logger.warning(\"Bootloader does not support checksumming\")\n",
    "        has_checksum = False\n",
    "\n",
    "    checksum_response = _send_and_receive(\n",
    "        connection,\n",
    "        Command(\n",
    "            command=CommandCode.CALC_CHECKSUM,\n",
    "            data_length=length,\n",
    "            address=address,\n",
    "        ),\n",
    "    )\n",
    "    assert isinstance(checksum_response, Checksum)\n",
    "\n",
    "# on a tous les boot_attrs : \n",
    "    return BootAttrs(\n",
    "        version,\n",
    "        max_packet_length,\n",
    "        device_id,\n",
    "        erase_size,\n",
    "        write_size,\n",
    "        memory_range,\n",
    "        has_checksum,\n",
    "    )\n",
    "\n",
    "\n",
    "# ensuite, on chunke tout : \n",
    "\n",
    "total_bytes, chunks = bf.chunked(hexfile=<HEXFILE_PATH_STRING>, bootattrs)\n",
    "\n",
    "\n",
    "# on erase la flash : \n",
    "    _send_and_receive(\n",
    "        connection,\n",
    "        command=Command(\n",
    "            command=CommandCode.ERASE_FLASH,\n",
    "            data_length=(end - start) // erase_size,\n",
    "            unlock_sequence=_FLASH_UNLOCK_KEY,\n",
    "            address=start,\n",
    "        ),\n",
    "    )\n",
    "\n",
    "\n",
    "# pour tous les chunks, on fait : \n",
    "\n",
    "    _send_and_receive(\n",
    "        connection,\n",
    "        Command(\n",
    "            command=CommandCode.WRITE_FLASH,\n",
    "            data_length=len(chunk.data),\n",
    "            unlock_sequence=_FLASH_UNLOCK_KEY,\n",
    "            address=chunk.address,\n",
    "        ),\n",
    "        chunk.data,\n",
    "    )\n",
    "\n",
    "\n",
    "\n",
    "\n"
   ]
  },
  {
   "cell_type": "code",
   "execution_count": null,
   "metadata": {},
   "outputs": [],
   "source": [
    "# ok, il faut tester l'opération de chunkage maintenant, le reste y'a pas grand chose : \n"
   ]
  },
  {
   "cell_type": "code",
   "execution_count": 49,
   "metadata": {},
   "outputs": [],
   "source": [
    "[x for x in \"Hello world ! \"].reverse()"
   ]
  }
 ],
 "metadata": {
  "kernelspec": {
   "display_name": "Python 3",
   "language": "python",
   "name": "python3"
  },
  "language_info": {
   "codemirror_mode": {
    "name": "ipython",
    "version": 3
   },
   "file_extension": ".py",
   "mimetype": "text/x-python",
   "name": "python",
   "nbconvert_exporter": "python",
   "pygments_lexer": "ipython3",
   "version": "3.8.0"
  }
 },
 "nbformat": 4,
 "nbformat_minor": 2
}
