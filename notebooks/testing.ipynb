{
 "cells": [
  {
   "cell_type": "code",
   "execution_count": 25,
   "metadata": {},
   "outputs": [],
   "source": [
    "# bf.get_boot_attrs(connection)\n",
    "\n",
    "def bytes_to_hex_string(byte_data):\n",
    "    hex_bytes = [f\"{byte:02x}\" for byte in bytes(byte_data)]\n",
    "    return ' '.join(hex_bytes)\n"
   ]
  },
  {
   "cell_type": "code",
   "execution_count": 66,
   "metadata": {},
   "outputs": [
    {
     "data": {
      "text/plain": [
       "'01 00 00 00 00 00 00 00 00 00 00 2a 00 2b 00 00 00 2d 00 00 00 30 00 22 00 00 00 00 00 00 00 00 00 00 00 00 00'"
      ]
     },
     "execution_count": 66,
     "metadata": {},
     "output_type": "execute_result"
    }
   ],
   "source": [
    "from _types import *\n",
    "\n",
    "# la première commande est : # bf.get_boot_attrs(connection)\n",
    "# qui fait : \n",
    "    # mem_range_response = _send_and_receive(\n",
    "    #     connection,\n",
    "    #     Command(CommandCode.GET_MEMORY_ADDRESS_RANGE),\n",
    "    # )\n",
    "\n",
    "# Checksum(42).__bytes__()\n",
    "\n",
    "# len(bytes(Command(CommandCode.GET_MEMORY_ADDRESS_RANGE)))\n",
    "\n",
    "# # ok, la commande pour demander fait 11 octets, et commence juste par \"0b\"\n",
    "# # ensuite, déparser la réponse\n",
    "v = Version(ResponseCode.SUCCESS)\n",
    "v.version = 42\n",
    "v.max_packet_length = 43\n",
    "v.device_id = 45\n",
    "v.erase_size = 48\n",
    "v.write_size = 34\n",
    "\n",
    "bytes_to_hex_string(v.__bytes__())\n"
   ]
  },
  {
   "cell_type": "code",
   "execution_count": null,
   "metadata": {},
   "outputs": [],
   "source": [
    "# Connect to a device in bootloader mode.\n",
    "connection = serial.Serial(port=<PORT>, baudrate=<BAUDRATE>, timeout=<TIMEOUT>)\n",
    "# Query its attributes.\n",
    "bootattrs = bf.get_boot_attrs(connection)\n",
    "# Load the firmware image and split it into chunks.\n",
    "total_bytes, chunks = bf.chunked(hexfile=<HEXFILE_PATH_STRING>, bootattrs)\n",
    "# Erase the device's program memory area.\n",
    "bf.erase_flash(connection, bootattrs.memory_range, bootattrs.erase_size)\n",
    "\n",
    "# Write the firmware chunks to the bootloader in a loop.\n",
    "for chunk in chunks:\n",
    "    bf.write_flash(connection, chunk)\n",
    "\n",
    "    # Optionally, check that the write is OK by checksumming.\n",
    "    if bootattrs.has_checksum:\n",
    "        bf.checksum(connection, chunk)\n",
    "\n",
    "    # At this point, you may want to give an indication of the flashing progress,\n",
    "    # like updating a progress bar.\n",
    "\n",
    "# Verify that the new application is detected.\n",
    "bf.self_verify(connection)\n"
   ]
  }
 ],
 "metadata": {
  "kernelspec": {
   "display_name": "Python 3",
   "language": "python",
   "name": "python3"
  },
  "language_info": {
   "codemirror_mode": {
    "name": "ipython",
    "version": 3
   },
   "file_extension": ".py",
   "mimetype": "text/x-python",
   "name": "python",
   "nbconvert_exporter": "python",
   "pygments_lexer": "ipython3",
   "version": "3.8.0"
  }
 },
 "nbformat": 4,
 "nbformat_minor": 2
}
