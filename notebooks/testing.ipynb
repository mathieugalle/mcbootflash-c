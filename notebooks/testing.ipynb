{
 "cells": [
  {
   "cell_type": "code",
   "execution_count": 25,
   "metadata": {},
   "outputs": [],
   "source": [
    "# bf.get_boot_attrs(connection)\n",
    "\n",
    "def bytes_to_hex_string(byte_data):\n",
    "    hex_bytes = [f\"{byte:02x}\" for byte in bytes(byte_data)]\n",
    "    return ' '.join(hex_bytes)\n"
   ]
  },
  {
   "cell_type": "code",
   "execution_count": 66,
   "metadata": {},
   "outputs": [
    {
     "data": {
      "text/plain": [
       "'01 00 00 00 00 00 00 00 00 00 00 2a 00 2b 00 00 00 2d 00 00 00 30 00 22 00 00 00 00 00 00 00 00 00 00 00 00 00'"
      ]
     },
     "execution_count": 66,
     "metadata": {},
     "output_type": "execute_result"
    }
   ],
   "source": [
    "from _types import *\n",
    "\n",
    "# la première commande est : # bf.get_boot_attrs(connection)\n",
    "# qui fait : \n",
    "    # mem_range_response = _send_and_receive(\n",
    "    #     connection,\n",
    "    #     Command(CommandCode.GET_MEMORY_ADDRESS_RANGE),\n",
    "    # )\n",
    "\n",
    "# Checksum(42).__bytes__()\n",
    "\n",
    "# len(bytes(Command(CommandCode.GET_MEMORY_ADDRESS_RANGE)))\n",
    "\n",
    "# # ok, la commande pour demander fait 11 octets, et commence juste par \"0b\"\n",
    "# # ensuite, déparser la réponse\n",
    "v = Version(ResponseCode.SUCCESS)\n",
    "v.version = 42\n",
    "v.max_packet_length = 43\n",
    "v.device_id = 45\n",
    "v.erase_size = 48\n",
    "v.write_size = 34\n",
    "\n",
    "bytes_to_hex_string(v.__bytes__())\n"
   ]
  },
  {
   "cell_type": "code",
   "execution_count": 91,
   "metadata": {},
   "outputs": [
    {
     "name": "stdout",
     "output_type": "stream",
     "text": [
      "CHUNK : \n",
      "6144\n",
      "e0 1a 04 00 00 00 00 00 02 00 fa 00 00 0f 78 00 1e 00 78 00 00 40 78 00 67 40 60 00 00 80 fb 00 67 00 60 00 4a 00 dd 00 02 0a 80 00 f1 3f 2e 00 81 00 61 00 01 00 70 00 00 0a 88 00 00 80 fa 00 00 00 06 00 02 00 fa 00 00 0f 78 00 1e 00 78 00 00 40 78 00 67 40 60 00 00 80 fb 00 67 00 60 00 02 0a 80 00 81 ff 2f 00 81 00 61 00 01 00 70 00 00 0a 88 00 00 80 fa 00 00 00 06 00 00 00 fa 00 43 01 a8 00 00 80 fa 00 00 00 06 00 00 00 fa 00 00 28 a9 00 00 80 fa 00 00 00 06 00 02 00 fa 00 00 0f 78 00 1e 00 78 00 00 40 78 00 67 40 60 00 00 80 fb 00 67 00 60 00 4a 00 dd 00 42 0a 80 00 f1 3f 2e 00 81 00 61 00 01 00 70 00 40 0a 88 00 00 80 fa 00 00 00 06 00 02 00 fa 00 00 0f 78 00 1e 00 78 00 00 40 78 00 67 40 60 00 00 80 fb 00\n",
      "        \n",
      "CHUNK : \n",
      "6264\n",
      "67 00 60 00 42 0a 80 00 81 ff 2f 00 81 00 61 00 01 00 70 00 40 0a 88 00 00 80 fa 00 00 00 06 00 00 00 fa 00 4b 01 a8 00 00 80 fa 00 00 00 06 00 02 00 fa 00 00 0f 78 00 1e 00 78 00 00 40 78 00 67 40 60 00 00 80 fb 00 67 00 60 00 4a 00 dd 00 82 0a 80 00 f1 3f 2e 00 81 00 61 00 01 00 70 00 80 0a 88 00 00 80 fa 00 00 00 06 00 02 00 fa 00 00 0f 78 00 1e 00 78 00 00 40 78 00 67 40 60 00 00 80 fb 00 67 00 60 00 82 0a 80 00 81 ff 2f 00 81 00 61 00 01 00 70 00 80 0a 88 00 00 80 fa 00 00 00 06 00 00 00 fa 00 53 01 a8 00 00 80 fa 00 00 00 06 00 00 00 fa 00 04 a8 a9 00 00 80 fa 00 00 00 06 00 02 00 fa 00 00 0f 78 00 1e 00 78 00 00 40 78 00 67 40 60 00 00 80 fb 00 67 00 60 00 4a 00 dd 00 c2 0a 80 00 f1 3f 2e 00 81 00 61 00\n",
      "        \n",
      "CHUNK : \n",
      "6384\n",
      "01 00 70 00 c0 0a 88 00 00 80 fa 00 00 00 06 00 02 00 fa 00 00 0f 78 00 1e 00 78 00 00 40 78 00 67 40 60 00 00 80 fb 00 67 00 60 00 c2 0a 80 00 81 ff 2f 00 81 00 61 00 01 00 70 00 c0 0a 88 00 00 80 fa 00 00 00 06 00 00 00 fa 00 5b 01 a8 00 00 80 fa 00 00 00 06 00 06 00 fa 00 00 4f 78 00 11 47 98 00 12 07 98 00 23 07 98 00 1e 80 fb 00 a1 b9 26 00 00 80 40 00 10 40 78 00 00 74 a1 00 80 80 fb 00 f0 07 20 00 00 80 60 00 72 35 80 00 01 f8 2f 00 81 00 61 00 01 00 70 00 70 35 88 00 1e 40 90 00 00 80 fb 00 a1 b9 26 00 00 80 40 00 10 40 78 00 00 74 a1 00 80 80 fb 00 f0 07 20 00 00 80 60 00 82 35 80 00 01 f8 2f 00 81 00 61 00 01 00 70 00 80 35 88 00 30 48 07 00 93 48 07 00 f6 48 07 00 60 47 07 00 70 00 20 00 4e ff 07 00\n",
      "        \n",
      "CHUNK : \n",
      "6504\n",
      "70 00 20 00 71 ff 07 00 70 00 20 00 90 ff 07 00 70 00 20 00 b3 ff 07 00 64 ff 07 00 88 ff 07 00 a8 ff 07 00 cc ff 07 00 64 ff 07 00 a9 ff 07 00 1e 00 90 00 4f ff 07 00 1e 00 90 00 72 ff 07 00 2e 00 90 00 91 ff 07 00 2e 00 90 00 b4 ff 07 00 50 48 07 00 b3 48 07 00 16 49 07 00 80 47 07 00 00 80 fa 00 00 00 06 00 02 00 fa 00 fb 42 07 00 00 4f 78 00 05 4d 07 00 10 21 a8 00 1e 40 78 00 e4 4f 50 00 02 00 3a 00 b2 4b 07 00 16 41 07 00 1e 80 fb 00 a1 b9 26 00 00 80 40 00 10 40 78 00 00 74 a1 00 80 80 fb 00 f0 07 20 00 00 80 60 00 32 35 80 00 01 f8 2f 00 81 00 61 00 01 00 70 00 30 35 88 00 0b 4d 07 00 10 c0 b3 00 00 80 fa 00 00 00 06 00 00 00 fa 00 02 4d 07 00 06 43 07 00 10 c0 b3 00 00 80 fa 00 00 00 06 00 f0 3f b1 00\n",
      "        \n",
      "CHUNK : \n",
      "6624\n",
      "01 80 b1 00 06 00 35 00 ee 03 09 00 00 00 00 00 40 3f b1 00 01 80 b1 00 fb ff 3d 00 10 00 b0 00 20 3f b0 00 02 00 35 00 00 80 09 00 00 00 00 00 00 00 06 00 ff ff 37 00\n",
      "        \n"
     ]
    }
   ],
   "source": [
    "from _util import chunked\n",
    "\n",
    "bootattrs = BootAttrs(\n",
    "        version=258,\n",
    "        max_packet_length=256,\n",
    "        device_id=13398,\n",
    "        erase_size=2048,\n",
    "        write_size=8,\n",
    "        memory_range=(6144, 174080),\n",
    "        has_checksum=True,\n",
    "    )\n",
    "total_bytes, chunks = chunked(\"../mcbootflash/tests/testcases/flash/test.hex\", bootattrs)\n",
    "\n",
    "chunks_array = []\n",
    "for chunk in chunks:\n",
    "    print(\"CHUNK : \")\n",
    "    print(chunk.address)\n",
    "    print(bytes_to_hex_string(chunk.data))\n",
    "    print(\"        \")"
   ]
  },
  {
   "cell_type": "code",
   "execution_count": null,
   "metadata": {},
   "outputs": [],
   "source": [
    "# Connect to a device in bootloader mode.\n",
    "connection = serial.Serial(port=<PORT>, baudrate=<BAUDRATE>, timeout=<TIMEOUT>)\n",
    "# Query its attributes.\n",
    "bootattrs = bf.get_boot_attrs(connection)\n",
    "# Load the firmware image and split it into chunks.\n",
    "total_bytes, chunks = bf.chunked(hexfile=<HEXFILE_PATH_STRING>, bootattrs)\n",
    "# Erase the device's program memory area.\n",
    "bf.erase_flash(connection, bootattrs.memory_range, bootattrs.erase_size)\n",
    "\n",
    "# Write the firmware chunks to the bootloader in a loop.\n",
    "for chunk in chunks:\n",
    "    bf.write_flash(connection, chunk)\n",
    "\n",
    "    # Optionally, check that the write is OK by checksumming.\n",
    "    if bootattrs.has_checksum:\n",
    "        bf.checksum(connection, chunk)\n",
    "\n",
    "    # At this point, you may want to give an indication of the flashing progress,\n",
    "    # like updating a progress bar.\n",
    "\n",
    "# Verify that the new application is detected.\n",
    "bf.self_verify(connection)\n"
   ]
  },
  {
   "cell_type": "code",
   "execution_count": 98,
   "metadata": {},
   "outputs": [
    {
     "name": "stdout",
     "output_type": "stream",
     "text": [
      "True\n"
     ]
    },
    {
     "data": {
      "text/plain": [
       "True"
      ]
     },
     "execution_count": 98,
     "metadata": {},
     "output_type": "execute_result"
    }
   ],
   "source": [
    "# test du crc ! \n",
    "import binascii\n",
    "def crc_srec(hexstr):\n",
    "    \"\"\"Calculate the CRC for given Motorola S-Record hexstring.\n",
    "\n",
    "    \"\"\"\n",
    "\n",
    "    crc = sum(binascii.unhexlify(hexstr))\n",
    "    crc &= 0xff\n",
    "    crc ^= 0xff\n",
    "\n",
    "    return crc\n",
    "\n",
    "#    std::vector<uint8_t> bytes{67, 56, 89, 45};\n",
    "print(crc_srec(\"4338592d\") == 254)\n",
    "\n",
    "\n",
    "crc_srec(\"588405bc7be1f154bbab51427e254050425dcf55\") == 210"
   ]
  },
  {
   "cell_type": "markdown",
   "metadata": {},
   "source": [
    "les étapes du code : \n",
    "\n",
    "get_boot_attrs : \n",
    "\n",
    "# demander VERSION\n",
    "    read_version_response = _send_and_receive(\n",
    "        connection,\n",
    "        Command(CommandCode.READ_VERSION),\n",
    "    )\n",
    "\n",
    "# demander MEMORY_RANGE\n",
    "    mem_range_response = _send_and_receive(\n",
    "        connection,\n",
    "        Command(CommandCode.GET_MEMORY_ADDRESS_RANGE),\n",
    "    )\n",
    "\n",
    "    assert isinstance(mem_range_response, MemoryRange)\n",
    "\n",
    "    # program_end + 2 explanation:\n",
    "    # +1 because the upper bound reported by the bootloader is inclusive, but we\n",
    "    # want to use it as a Python range, which is half-open.\n",
    "    # +1 because the final byte of the final 24-bit instruction is not included in\n",
    "    # the range reported by the bootloader, but it is still writable.\n",
    "    return mem_range_response.program_start, mem_range_response.program_end + 2\n",
    "\n",
    "\n",
    "# demander CHECKSUM (peut planter)\n",
    "    try:\n",
    "        _get_remote_checksum(connection, memory_range[0], write_size)\n",
    "        has_checksum = True\n",
    "    except UnsupportedCommand:\n",
    "        _logger.warning(\"Bootloader does not support checksumming\")\n",
    "        has_checksum = False\n",
    "\n",
    "    checksum_response = _send_and_receive(\n",
    "        connection,\n",
    "        Command(\n",
    "            command=CommandCode.CALC_CHECKSUM,\n",
    "            data_length=length,\n",
    "            address=address,\n",
    "        ),\n",
    "    )\n",
    "    assert isinstance(checksum_response, Checksum)\n",
    "\n",
    "# on a tous les boot_attrs : \n",
    "    return BootAttrs(\n",
    "        version,\n",
    "        max_packet_length,\n",
    "        device_id,\n",
    "        erase_size,\n",
    "        write_size,\n",
    "        memory_range,\n",
    "        has_checksum,\n",
    "    )\n",
    "\n",
    "\n",
    "# ensuite, on chunke tout : \n",
    "\n",
    "total_bytes, chunks = bf.chunked(hexfile=<HEXFILE_PATH_STRING>, bootattrs)\n",
    "\n",
    "\n",
    "# on erase la flash : \n",
    "    _send_and_receive(\n",
    "        connection,\n",
    "        command=Command(\n",
    "            command=CommandCode.ERASE_FLASH,\n",
    "            data_length=(end - start) // erase_size,\n",
    "            unlock_sequence=_FLASH_UNLOCK_KEY,\n",
    "            address=start,\n",
    "        ),\n",
    "    )\n",
    "\n",
    "\n",
    "# pour tous les chunks, on fait : \n",
    "\n",
    "    _send_and_receive(\n",
    "        connection,\n",
    "        Command(\n",
    "            command=CommandCode.WRITE_FLASH,\n",
    "            data_length=len(chunk.data),\n",
    "            unlock_sequence=_FLASH_UNLOCK_KEY,\n",
    "            address=chunk.address,\n",
    "        ),\n",
    "        chunk.data,\n",
    "    )\n",
    "\n",
    "\n",
    "\n",
    "\n"
   ]
  },
  {
   "cell_type": "code",
   "execution_count": null,
   "metadata": {},
   "outputs": [],
   "source": [
    "# ok, il faut tester l'opération de chunkage maintenant, le reste y'a pas grand chose : \n",
    "\n",
    "\n",
    "\n"
   ]
  }
 ],
 "metadata": {
  "kernelspec": {
   "display_name": "Python 3",
   "language": "python",
   "name": "python3"
  },
  "language_info": {
   "codemirror_mode": {
    "name": "ipython",
    "version": 3
   },
   "file_extension": ".py",
   "mimetype": "text/x-python",
   "name": "python",
   "nbconvert_exporter": "python",
   "pygments_lexer": "ipython3",
   "version": "3.8.0"
  }
 },
 "nbformat": 4,
 "nbformat_minor": 2
}
