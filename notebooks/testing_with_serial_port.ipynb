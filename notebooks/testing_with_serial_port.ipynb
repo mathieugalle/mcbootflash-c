{
 "cells": [
  {
   "cell_type": "code",
   "execution_count": 5,
   "metadata": {},
   "outputs": [
    {
     "data": {
      "text/plain": [
       "'01 00 00 00 00 00 00 00 00 00 00 2a 00 2b 00 00 00 2d 00 00 00 30 00 22 00 00 00 00 00 00 00 00 00 00 00 00 00'"
      ]
     },
     "execution_count": 5,
     "metadata": {},
     "output_type": "execute_result"
    }
   ],
   "source": [
    "def bytes_to_hex_string(byte_data, addSpaces = True):\n",
    "    hex_bytes = [f\"{byte:02x}\" for byte in bytes(byte_data)]\n",
    "    if addSpaces:\n",
    "        return ' '.join(hex_bytes, )\n",
    "    else:\n",
    "        return ''.join(hex_bytes, )\n",
    "from _types import *\n",
    "\n",
    "\n",
    "\n",
    "v = Version(ResponseCode.SUCCESS)\n",
    "v.version = 42\n",
    "v.max_packet_length = 43\n",
    "v.device_id = 45\n",
    "v.erase_size = 48\n",
    "v.write_size = 34\n",
    "\n",
    "bytes_to_hex_string(v.__bytes__())"
   ]
  },
  {
   "cell_type": "code",
   "execution_count": 18,
   "metadata": {},
   "outputs": [
    {
     "name": "stdout",
     "output_type": "stream",
     "text": [
      "0b 08 00 00 00 00 00 00 00 00 00\n",
      "11\n"
     ]
    }
   ],
   "source": [
    "c = Command(CommandCode.GET_MEMORY_ADDRESS_RANGE)\n",
    "c.data_length = 8\n",
    "print(bytes_to_hex_string(c.__bytes__()))\n",
    "\n",
    "print(len(c.__bytes__()))\n",
    "# true res : 0b 00 00 00 00 00 00 00 00 00 00\n",
    "# wt java  : 0b 08 00 00 00 00 00 00 00 00 00\n",
    "\n",
    "\n"
   ]
  },
  {
   "cell_type": "code",
   "execution_count": 17,
   "metadata": {},
   "outputs": [
    {
     "name": "stdout",
     "output_type": "stream",
     "text": [
      "ff 00 00 00 00 00 00 00 00 00 00 ff 00 20 00 00 fe a7 00 00\n"
     ]
    },
    {
     "data": {
      "text/plain": [
       "20"
      ]
     },
     "execution_count": 17,
     "metadata": {},
     "output_type": "execute_result"
    }
   ],
   "source": [
    "# étude de la réponse à la limite\n",
    "\n",
    "m = MemoryRange(ResponseCode.UNSUPPORTED_COMMAND, program_start= 0x2000, program_end=0xA7FE)\n",
    "\n",
    "print(bytes_to_hex_string(m.__bytes__()))\n",
    "len(m.__bytes__())\n"
   ]
  },
  {
   "cell_type": "code",
   "execution_count": 16,
   "metadata": {},
   "outputs": [
    {
     "data": {
      "text/plain": [
       "'0b 08 00 00 00 00 00 00 00 00 00 01 00 20 00 00 fe a7 00 00'"
      ]
     },
     "execution_count": 16,
     "metadata": {},
     "output_type": "execute_result"
    }
   ],
   "source": [
    "\"0b 08 00 00 00 00 00 00 00 00 00 01 00 20 00 00 fe a7 00 00\"\n"
   ]
  }
 ],
 "metadata": {
  "kernelspec": {
   "display_name": "Python 3",
   "language": "python",
   "name": "python3"
  },
  "language_info": {
   "codemirror_mode": {
    "name": "ipython",
    "version": 3
   },
   "file_extension": ".py",
   "mimetype": "text/x-python",
   "name": "python",
   "nbconvert_exporter": "python",
   "pygments_lexer": "ipython3",
   "version": "3.8.0"
  }
 },
 "nbformat": 4,
 "nbformat_minor": 2
}
