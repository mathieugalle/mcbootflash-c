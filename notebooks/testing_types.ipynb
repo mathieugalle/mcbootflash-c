{
 "cells": [
  {
   "cell_type": "code",
   "execution_count": 2,
   "metadata": {},
   "outputs": [
    {
     "name": "stdout",
     "output_type": "stream",
     "text": [
      "37\n",
      "01 00 00 00 00 00 00 00 00 00 00 2a 00 2b 00 00 00 80 0d 00 00 30 00 22 00 00 00 00 00 00 00 00 00 00 00 00 00\n",
      "01 00 01 00 00 56 34 00 00 00 08 08 00 00 00 00 00 00 00 00 00 00 00 00 00\n"
     ]
    }
   ],
   "source": [
    "def bytes_to_hex_string(byte_data, addSpaces = True):\n",
    "    hex_bytes = [f\"{byte:02x}\" for byte in bytes(byte_data)]\n",
    "    if addSpaces:\n",
    "        return ' '.join(hex_bytes, )\n",
    "    else:\n",
    "        return ''.join(hex_bytes, )\n",
    "\n",
    "\n",
    "from _types import *\n",
    "v = Version(ResponseCode.SUCCESS)\n",
    "v.version = 42\n",
    "v.max_packet_length = 43\n",
    "v.device_id = 3456\n",
    "v.erase_size = 48\n",
    "v.write_size = 34\n",
    "\n",
    "print(len(v.__bytes__()))\n",
    "print(bytes_to_hex_string(v.__bytes__()))\n",
    "print(\"01 00 01 00 00 56 34 00 00 00 08 08 00 00 00 00 00 00 00 00 00 00 00 00 00\")\n"
   ]
  },
  {
   "cell_type": "code",
   "execution_count": 4,
   "metadata": {},
   "outputs": [
    {
     "name": "stdout",
     "output_type": "stream",
     "text": [
      "20\n",
      "01 00 00 00 00 00 00 00 00 00 00 ff a6 01 00 00 14 03 00 00\n"
     ]
    }
   ],
   "source": [
    "m = MemoryRange(ResponseCode.SUCCESS)\n",
    "m.program_start = 422\n",
    "m.program_end = 788\n",
    "print(len(m.__bytes__()))\n",
    "print(bytes_to_hex_string(m.__bytes__()))\n"
   ]
  },
  {
   "cell_type": "code",
   "execution_count": null,
   "metadata": {},
   "outputs": [],
   "source": []
  }
 ],
 "metadata": {
  "kernelspec": {
   "display_name": "Python 3",
   "language": "python",
   "name": "python3"
  },
  "language_info": {
   "codemirror_mode": {
    "name": "ipython",
    "version": 3
   },
   "file_extension": ".py",
   "mimetype": "text/x-python",
   "name": "python",
   "nbconvert_exporter": "python",
   "pygments_lexer": "ipython3",
   "version": "3.8.0"
  }
 },
 "nbformat": 4,
 "nbformat_minor": 2
}
