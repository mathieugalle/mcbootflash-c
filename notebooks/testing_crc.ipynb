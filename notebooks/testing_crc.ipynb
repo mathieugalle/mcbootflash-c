{
 "cells": [
  {
   "cell_type": "code",
   "execution_count": 12,
   "metadata": {},
   "outputs": [
    {
     "name": "stdout",
     "output_type": "stream",
     "text": [
      "False\n"
     ]
    },
    {
     "data": {
      "text/plain": [
       "False"
      ]
     },
     "execution_count": 12,
     "metadata": {},
     "output_type": "execute_result"
    }
   ],
   "source": [
    "# test du crc ! \n",
    "import binascii\n",
    "\n",
    "def crc_ihex(hexstr):\n",
    "    \"\"\"Calculate the CRC for given Intel HEX hexstring.\n",
    "    \"\"\"\n",
    "    crc = sum(binascii.unhexlify(hexstr))\n",
    "    # print(\"sum of crc : \", crc)\n",
    "    crc &= 0xff\n",
    "    # print(\"after &= : \", crc)\n",
    "    crc = ((~crc + 1) & 0xff)\n",
    "    # print(\"final crc : \", crc)\n",
    "    return crc\n",
    "#    std::vector<uint8_t> bytes{67, 56, 89, 45};\n",
    "print(crc_ihex(\"4338592d\") == 254)\n",
    "\n",
    "crc_ihex(\"588405bc7be1f154bbab51427e254050425dcf55\") == 210"
   ]
  },
  {
   "cell_type": "code",
   "execution_count": 10,
   "metadata": {},
   "outputs": [
    {
     "data": {
      "text/plain": [
       "255"
      ]
     },
     "execution_count": 10,
     "metadata": {},
     "output_type": "execute_result"
    }
   ],
   "source": [
    "expected_crc = crc_ihex(\"4338592D\")\n",
    "expected_crc"
   ]
  }
 ],
 "metadata": {
  "kernelspec": {
   "display_name": "Python 3",
   "language": "python",
   "name": "python3"
  },
  "language_info": {
   "codemirror_mode": {
    "name": "ipython",
    "version": 3
   },
   "file_extension": ".py",
   "mimetype": "text/x-python",
   "name": "python",
   "nbconvert_exporter": "python",
   "pygments_lexer": "ipython3",
   "version": "3.8.0"
  }
 },
 "nbformat": 4,
 "nbformat_minor": 2
}
