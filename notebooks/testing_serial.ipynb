{
 "cells": [
  {
   "cell_type": "code",
   "execution_count": null,
   "metadata": {},
   "outputs": [],
   "source": [
    "import serial\n",
    "import time\n",
    "\n",
    "# Fonction pour envoyer et recevoir des données en boucle\n",
    "def boucleTermios(connection):\n",
    "    while True:\n",
    "        # Demander à l'utilisateur d'entrer des octets hexadécimaux\n",
    "        input_hex = input(\"Entrez les octets en hexadécimal (séparés par des espaces) : \")\n",
    "        byte_data = bytes.fromhex(input_hex.replace(\" \", \"\"))\n",
    "\n",
    "        # Envoyer les données\n",
    "        connection.write(byte_data)\n",
    "\n",
    "        # Lire la réponse pendant 1 seconde\n",
    "        start_time = time.time()\n",
    "        read_data = bytearray()\n",
    "        while time.time() - start_time < 1:\n",
    "            if connection.in_waiting > 0:\n",
    "                read_data.extend(connection.read(connection.in_waiting))\n",
    "\n",
    "        # Afficher la réponse en hexadécimal\n",
    "        response_hex = \" \".join(f\"{byte:02x}\" for byte in read_data)\n",
    "        print(response_hex)\n",
    "\n",
    "# Exemple d'utilisation\n",
    "# Remplacez \"COM6\" par le port série approprié sur votre machine\n",
    "connection = serial.Serial(port=\"COM6\", baudrate=9600, timeout=2)\n",
    "try:\n",
    "    boucleTermios(connection)\n",
    "except KeyboardInterrupt:\n",
    "    print(\"Programme interrompu par l'utilisateur\")\n",
    "finally:\n",
    "    connection.close()\n"
   ]
  }
 ],
 "metadata": {
  "language_info": {
   "name": "python"
  }
 },
 "nbformat": 4,
 "nbformat_minor": 2
}
